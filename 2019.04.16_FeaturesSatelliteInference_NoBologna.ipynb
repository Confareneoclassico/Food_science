{
 "cells": [
  {
   "cell_type": "code",
   "execution_count": null,
   "metadata": {},
   "outputs": [],
   "source": [
    "import calendar\n",
    "import matplotlib.pyplot as plt\n",
    "import numpy as np\n",
    "import pandas as pd\n",
    "import pkg_resources\n",
    "from scipy.stats import linregress\n",
    "from sklearn.decomposition import PCA\n",
    "from sklearn.preprocessing import StandardScaler\n",
    "from tabulate import tabulate\n",
    "import types"
   ]
  },
  {
   "cell_type": "markdown",
   "metadata": {},
   "source": [
    "### Package requirements for reproducibility"
   ]
  },
  {
   "cell_type": "code",
   "execution_count": null,
   "metadata": {},
   "outputs": [],
   "source": [
    "def get_imports():\n",
    "    for name, val in globals().items():\n",
    "        if isinstance(val, types.ModuleType):\n",
    "            \n",
    "            name = val.__name__.split(\".\")[0]\n",
    "\n",
    "        elif isinstance(val, type):\n",
    "            name = val.__module__.split(\".\")[0]\n",
    "            \n",
    "        poorly_named_packages = {\n",
    "            \"PIL\": \"Pillow\",\n",
    "            \"sklearn\": \"scikit-learn\"\n",
    "        }\n",
    "        if name in poorly_named_packages.keys():\n",
    "            name = poorly_named_packages[name]\n",
    "\n",
    "        yield name\n",
    "imports = list(set(get_imports()))\n",
    "\n",
    "requirements = []\n",
    "for m in pkg_resources.working_set:\n",
    "    if m.project_name in imports and m.project_name!=\"pip\":\n",
    "        requirements.append((m.project_name, m.version))\n",
    "\n",
    "for r in requirements:\n",
    "    print(\"{}=={}\".format(*r))"
   ]
  },
  {
   "cell_type": "markdown",
   "metadata": {},
   "source": [
    "#### Define the initial dataset you'll be working on"
   ]
  },
  {
   "cell_type": "code",
   "execution_count": null,
   "metadata": {},
   "outputs": [],
   "source": [
    "SatelliteJuly = pd.read_excel('Data.xlsx',sheet_name='July_sat').drop([r for r in range(12,24)])\n",
    "SatelliteJune = pd.read_excel('Data.xlsx',sheet_name='June_sat').drop([r for r in range(12,24)])\n",
    "SatelliteMay = pd.read_excel('Data.xlsx',sheet_name='May_sat').drop([r for r in range(12,24)])\n",
    "SatelliteApril = pd.read_excel('Data.xlsx',sheet_name='April_satellite').drop([r for r in range(12,24)])\n",
    "Seed = pd.read_excel('Data.xlsx',sheet_name='Chem_comp_wheat',usecols=[1,2,3,4,5,6,7,8]).drop([r for r in range(12,24)])\n",
    "Dough = pd.read_excel('Data.xlsx',sheet_name='Dough',usecols=['W','P/L']).drop([r for r in range(12,24)])\n",
    "Bread = pd.read_excel('Data.xlsx',sheet_name='Bread',usecols=[2,3,4,5,6,9]).drop([r for r in range(12,24)])\n",
    "Seed2 = Seed.copy()\n",
    "Seed2[['Prot sol acq','Prot nacl','Prot etoh', 'Prot ac ac']] = \\\n",
    "Seed[['Prot sol acq','Prot nacl','Prot etoh', 'Prot ac ac']].apply(lambda x: Seed.T.iloc[3].T * x/100)"
   ]
  },
  {
   "cell_type": "markdown",
   "metadata": {},
   "source": [
    "### Print out the features of the fields we are running our inquiry on"
   ]
  },
  {
   "cell_type": "code",
   "execution_count": null,
   "metadata": {},
   "outputs": [],
   "source": [
    "ta=pd.read_excel('Data.xlsx',sheet_name='Lots')\n",
    "ta.head()"
   ]
  },
  {
   "cell_type": "code",
   "execution_count": null,
   "metadata": {},
   "outputs": [],
   "source": [
    "SD = [SatelliteApril,SatelliteMay,SatelliteJune,SatelliteJuly]\n",
    "\n",
    "SatelliteData = pd.concat(SD,axis=1,sort=False)"
   ]
  },
  {
   "cell_type": "markdown",
   "metadata": {},
   "source": [
    "### Let's build a first regression between reflectance data and the features we are examining"
   ]
  },
  {
   "cell_type": "code",
   "execution_count": null,
   "metadata": {},
   "outputs": [],
   "source": [
    "names = ['Seed','Dough','Bread']\n",
    "db = [Seed,Dough,Bread]\n",
    "Fc = [(names[idb],c) for idb,d in enumerate(db) for c in d ]\n",
    "Features = pd.concat([Seed,Dough,Bread],axis=1)\n",
    "Features.columns = pd.MultiIndex.from_tuples(Fc,names=('Stage','Feature'))"
   ]
  },
  {
   "cell_type": "code",
   "execution_count": null,
   "metadata": {},
   "outputs": [],
   "source": [
    "scaler = StandardScaler()\n",
    "\n",
    "PCA_v = []\n",
    "\n",
    "PCA_f = []  \n",
    "\n",
    "PCA_l = []\n",
    "\n",
    "\n",
    "\n",
    "for sd in SD:\n",
    "\n",
    "    sd=sd.dropna(axis='columns')\n",
    "\n",
    "    scaler.fit(sd)\n",
    "    scaledSatellite = pd.DataFrame(scaler.transform(sd))\n",
    "\n",
    "    pca = PCA(.995)\n",
    "    pca.fit(scaledSatellite)\n",
    "    PCA_Satellite = pd.DataFrame(pca.transform(scaledSatellite))\n",
    "    PCA_Satellite = PCA_Satellite.add_suffix(str(sd.columns[0][-7:])) \n",
    "    PCA_l.append(PCA_Satellite)\n",
    "\n",
    "    PCA_stat = pd.DataFrame(pca.components_)\n",
    "    PCA_stat['Explained_variance'] = pca.explained_variance_ratio_\n",
    "    PCA_stat['month'] = calendar.month_abbr[int(sd.columns[0][-1])]\n",
    "    PCA_f.append(PCA_stat)\n",
    "\n",
    "PCA_df = pd.concat(PCA_l,axis=1,sort=False)\n",
    "\n",
    "bl1 = []\n",
    "bli = []\n",
    "for ib in PCA_df:\n",
    "    bl = []\n",
    "    bli.append((calendar.month_abbr[int(ib[-1])],'PCA'+str(ib[0])))\n",
    "    for c in Features:\n",
    "        bl.append(linregress(PCA_df[ib],Features[c])[2]**2)\n",
    "    bl1.append(bl)\n",
    "Regression_PCA = pd.concat([pd.DataFrame(b1) for b1 in bl1],axis=1).T\n",
    "Regression_PCA.index = pd.MultiIndex.from_tuples(bli,names=('Month','Index'))\n",
    "Regression_PCA.columns = Features.columns\n",
    "PCA_v.append(Regression_PCA)\n",
    "    \n",
    "PCA_variance = pd.concat(PCA_v).sort_index(level=0)\n",
    "\n",
    "PCA_components = pd.concat(PCA_f).set_index(['month'])\n",
    "PCA_components = PCA_components.sort_index(level=0)"
   ]
  },
  {
   "cell_type": "code",
   "execution_count": null,
   "metadata": {},
   "outputs": [],
   "source": [
    "bl1 = []\n",
    "bli = []\n",
    "for ib in SatelliteData:\n",
    "    bl = []\n",
    "    bli.append((calendar.month_abbr[int(ib[-1])],ib[:4]))\n",
    "    for c in Features:\n",
    "        bl.append(linregress(SatelliteData[ib],Features[c])[2]**2)\n",
    "    bl1.append(bl)\n",
    "Regression_df = pd.concat([pd.DataFrame(b1) for b1 in bl1],axis=1).T\n",
    "Regression_df.index = pd.MultiIndex.from_tuples(bli,names=('Month','Index'))\n",
    "Regression_df.columns = Features.columns"
   ]
  },
  {
   "cell_type": "markdown",
   "metadata": {},
   "source": [
    "### Query to see what is the highest regression figure"
   ]
  },
  {
   "cell_type": "code",
   "execution_count": null,
   "metadata": {},
   "outputs": [],
   "source": [
    "Regression_month = Regression_PCA.groupby(level=[0])\n",
    "Regression_index = Regression_PCA.groupby(level=[1])\n",
    "Regression_feature = Regression_PCA.T.groupby(level=[0])"
   ]
  },
  {
   "cell_type": "code",
   "execution_count": null,
   "metadata": {},
   "outputs": [],
   "source": [
    "Regressions = [Regression_month,Regression_index,Regression_feature]\n",
    "for rs in Regressions:\n",
    "    for idx, rf in rs:\n",
    "        print(f'Feature: {idx}')\n",
    "        print('-' * 16)\n",
    "        print(rf[rf>0.1].count(), end='\\n\\n')\n",
    "        print(rf[rf>0.1].max(), end='\\n\\n')"
   ]
  },
  {
   "cell_type": "code",
   "execution_count": null,
   "metadata": {},
   "outputs": [],
   "source": [
    "Regressions = [Regression_month,Regression_index,Regression_feature]\n",
    "for rs in Regressions:\n",
    "    for idx, rf in rs:\n",
    "        print(f'Feature: {idx}')\n",
    "        print('-' * 16)\n",
    "        print(rf[rf>0.3].count(), end='\\n\\n')\n",
    "        print(rf[rf>0.3].max(), end='\\n\\n')"
   ]
  },
  {
   "cell_type": "code",
   "execution_count": null,
   "metadata": {},
   "outputs": [],
   "source": []
  }
 ],
 "metadata": {
  "kernelspec": {
   "display_name": "Python 3",
   "language": "python",
   "name": "python3"
  },
  "language_info": {
   "codemirror_mode": {
    "name": "ipython",
    "version": 3
   },
   "file_extension": ".py",
   "mimetype": "text/x-python",
   "name": "python",
   "nbconvert_exporter": "python",
   "pygments_lexer": "ipython3",
   "version": "3.7.1"
  }
 },
 "nbformat": 4,
 "nbformat_minor": 2
}
