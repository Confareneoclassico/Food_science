{
 "cells": [
  {
   "cell_type": "code",
   "execution_count": null,
   "metadata": {},
   "outputs": [],
   "source": [
    "import calendar\n",
    "import matplotlib.pyplot as plt\n",
    "import numpy as np\n",
    "import pandas as pd\n",
    "import pkg_resources\n",
    "from scipy.stats import linregress\n",
    "from sklearn.decomposition import PCA\n",
    "from sklearn.preprocessing import StandardScaler\n",
    "from tabulate import tabulate\n",
    "import types"
   ]
  },
  {
   "cell_type": "markdown",
   "metadata": {},
   "source": [
    "### Package requirements for reproducibility"
   ]
  },
  {
   "cell_type": "code",
   "execution_count": null,
   "metadata": {},
   "outputs": [],
   "source": [
    "def get_imports():\n",
    "    for name, val in globals().items():\n",
    "        if isinstance(val, types.ModuleType):\n",
    "            \n",
    "            name = val.__name__.split(\".\")[0]\n",
    "\n",
    "        elif isinstance(val, type):\n",
    "            name = val.__module__.split(\".\")[0]\n",
    "            \n",
    "        poorly_named_packages = {\n",
    "            \"PIL\": \"Pillow\",\n",
    "            \"sklearn\": \"scikit-learn\"\n",
    "        }\n",
    "        if name in poorly_named_packages.keys():\n",
    "            name = poorly_named_packages[name]\n",
    "\n",
    "        yield name\n",
    "imports = list(set(get_imports()))\n",
    "\n",
    "requirements = []\n",
    "for m in pkg_resources.working_set:\n",
    "    if m.project_name in imports and m.project_name!=\"pip\":\n",
    "        requirements.append((m.project_name, m.version))\n",
    "\n",
    "for r in requirements:\n",
    "    print(\"{}=={}\".format(*r))"
   ]
  },
  {
   "cell_type": "markdown",
   "metadata": {},
   "source": [
    "#### Define the initial dataset you'll be working on"
   ]
  },
  {
   "cell_type": "code",
   "execution_count": null,
   "metadata": {},
   "outputs": [],
   "source": [
    "SatelliteJuly = pd.read_excel('Data.xlsx',sheet_name='July_sat')\n",
    "SatelliteJune = pd.read_excel('Data.xlsx',sheet_name='June_sat')\n",
    "SatelliteMay = pd.read_excel('Data.xlsx',sheet_name='May_sat')\n",
    "SatelliteApril = pd.read_excel('Data.xlsx',sheet_name='April_satellite')\n",
    "\n",
    "SD = [SatelliteApril,SatelliteMay,SatelliteJune,SatelliteJuly]\n",
    "\n",
    "SatelliteData = pd.concat(SD,axis=1,sort=False)\n",
    "\n",
    "Dough = pd.read_excel('Data.xlsx',sheet_name='Dough',usecols=['W','P/L'])"
   ]
  },
  {
   "cell_type": "markdown",
   "metadata": {},
   "source": [
    "### Let's build a first regression between reflectance data and the features we are examining"
   ]
  },
  {
   "cell_type": "code",
   "execution_count": null,
   "metadata": {},
   "outputs": [],
   "source": [
    "bl1 = []\n",
    "bli = []\n",
    "for ib in SatelliteData:\n",
    "    bl = []\n",
    "    bli.append((calendar.month_abbr[int(ib[-1])],ib[:4]))\n",
    "    for c in Dough:\n",
    "        bl.append(linregress(SatelliteData[ib],Dough[c])[2]**2)\n",
    "    bl1.append(bl)\n",
    "Regression_df = pd.concat([pd.DataFrame(b1) for b1 in bl1],axis=1).T\n",
    "Regression_df.index = pd.MultiIndex.from_tuples(bli,names=('Month','Index'))\n",
    "Regression_df.columns = Dough.columns"
   ]
  },
  {
   "cell_type": "markdown",
   "metadata": {},
   "source": [
    "### Let us evaluate if one can produce a better inference on the principal components of the indices"
   ]
  },
  {
   "cell_type": "code",
   "execution_count": null,
   "metadata": {},
   "outputs": [],
   "source": [
    "scaler = StandardScaler()\n",
    "\n",
    "explained_variance = [.95,.99,.995,.999]\n",
    "\n",
    "PCA_v = []\n",
    "\n",
    "PCA_f = []  \n",
    "\n",
    "for ev in explained_variance:\n",
    "\n",
    "    PCA_l = []\n",
    "    \n",
    "      \n",
    "\n",
    "    for sd in SD:\n",
    "\n",
    "        sd=sd.dropna(axis='columns')\n",
    "\n",
    "        scaler.fit(sd)\n",
    "        scaledSatellite = pd.DataFrame(scaler.transform(sd))\n",
    "\n",
    "        pca = PCA(ev)\n",
    "        pca.fit(scaledSatellite)\n",
    "        PCA_Satellite = pd.DataFrame(pca.transform(scaledSatellite))\n",
    "        PCA_Satellite = PCA_Satellite.add_suffix(str(sd.columns[0][-7:])) \n",
    "        PCA_l.append(PCA_Satellite)\n",
    "        \n",
    "        PCA_stat = pd.DataFrame(pca.components_)\n",
    "        PCA_stat['Explained_variance'] = pca.explained_variance_ratio_\n",
    "        PCA_stat['month'] = calendar.month_abbr[int(sd.columns[0][-1])]\n",
    "        PCA_stat['explained_variance'] = ev\n",
    "        PCA_f.append(PCA_stat)\n",
    "        \n",
    "    PCA_df = pd.concat(PCA_l,axis=1,sort=False)\n",
    "\n",
    "    bl1 = []\n",
    "    bli = []\n",
    "    for ib in PCA_df:\n",
    "        bl = []\n",
    "        bli.append((calendar.month_abbr[int(ib[-1])],'PCA'+str(ib[0])))\n",
    "        for c in Dough:\n",
    "            bl.append(linregress(PCA_df[ib],Dough[c])[2]**2)\n",
    "        bl1.append(bl)\n",
    "    Regression_PCA = pd.concat([pd.DataFrame(b1) for b1 in bl1],axis=1).T\n",
    "    Regression_PCA.index = pd.MultiIndex.from_tuples(bli,names=('Month','Index'))\n",
    "    Regression_PCA.columns = Dough.columns\n",
    "    Regression_PCA['explained_variance']=ev\n",
    "    Regression_PCA.set_index('explained_variance', append=True, inplace=True)\n",
    "    PCA_v.append(Regression_PCA)\n",
    "    \n",
    "PCA_variance = pd.concat(PCA_v).sort_index(level=0)\n",
    "\n",
    "PCA_components = pd.concat(PCA_f).set_index(['month','explained_variance'])\n",
    "PCA_components = PCA_components.sort_index(level=0)\n",
    "PCA_components = PCA_components[[c for c in range(7)]+['Explained_variance']]"
   ]
  },
  {
   "cell_type": "markdown",
   "metadata": {},
   "source": [
    "### One can isolate the most promising components on the basis of the $R^2$ value"
   ]
  },
  {
   "cell_type": "code",
   "execution_count": null,
   "metadata": {},
   "outputs": [],
   "source": [
    "PCA_variance"
   ]
  },
  {
   "cell_type": "markdown",
   "metadata": {},
   "source": [
    "### And finally draw the resulting scatter plots"
   ]
  },
  {
   "cell_type": "code",
   "execution_count": null,
   "metadata": {},
   "outputs": [],
   "source": [
    "Plots = PCA_df[['1_Mese_5','1_Mese_6']]"
   ]
  },
  {
   "cell_type": "code",
   "execution_count": null,
   "metadata": {},
   "outputs": [],
   "source": [
    "for c in Dough:\n",
    "    for c1 in Plots:\n",
    "        plt.scatter(Plots[c1],Dough[c],s=1,label='$R^2$ ='+str(np.round_(linregress(Plots[c1],Dough[c])[2]**2,2)))\n",
    "        plt.xlabel('Principal_Component_value')\n",
    "        plt.ylabel('Deformation energy, W $10^{-4}$ J' if c == 'W' else 'Curve configuration ratio, P/L')\n",
    "        plt.title(calendar.month_abbr[int(c1[-1])])\n",
    "        plt.legend()\n",
    "        plt.show()"
   ]
  },
  {
   "cell_type": "code",
   "execution_count": null,
   "metadata": {},
   "outputs": [],
   "source": [
    "PCA_components"
   ]
  },
  {
   "cell_type": "code",
   "execution_count": null,
   "metadata": {},
   "outputs": [],
   "source": [
    "SatelliteJune"
   ]
  },
  {
   "cell_type": "code",
   "execution_count": null,
   "metadata": {},
   "outputs": [],
   "source": []
  }
 ],
 "metadata": {
  "kernelspec": {
   "display_name": "Python 3",
   "language": "python",
   "name": "python3"
  },
  "language_info": {
   "codemirror_mode": {
    "name": "ipython",
    "version": 3
   },
   "file_extension": ".py",
   "mimetype": "text/x-python",
   "name": "python",
   "nbconvert_exporter": "python",
   "pygments_lexer": "ipython3",
   "version": "3.7.1"
  }
 },
 "nbformat": 4,
 "nbformat_minor": 2
}
