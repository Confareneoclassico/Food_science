{
 "cells": [
  {
   "cell_type": "code",
   "execution_count": null,
   "metadata": {},
   "outputs": [],
   "source": [
    "import matplotlib.pyplot as plt\n",
    "import numpy as np\n",
    "import pandas as pd\n",
    "import pkg_resources\n",
    "from scipy.stats import linregress\n",
    "from sklearn.decomposition import PCA\n",
    "from sklearn.preprocessing import StandardScaler\n",
    "import types"
   ]
  },
  {
   "cell_type": "markdown",
   "metadata": {},
   "source": [
    "### Package requirements for reproducibility"
   ]
  },
  {
   "cell_type": "code",
   "execution_count": null,
   "metadata": {},
   "outputs": [],
   "source": [
    "def get_imports():\n",
    "    for name, val in globals().items():\n",
    "        if isinstance(val, types.ModuleType):\n",
    "            \n",
    "            name = val.__name__.split(\".\")[0]\n",
    "\n",
    "        elif isinstance(val, type):\n",
    "            name = val.__module__.split(\".\")[0]\n",
    "            \n",
    "        poorly_named_packages = {\n",
    "            \"PIL\": \"Pillow\",\n",
    "            \"sklearn\": \"scikit-learn\"\n",
    "        }\n",
    "        if name in poorly_named_packages.keys():\n",
    "            name = poorly_named_packages[name]\n",
    "\n",
    "        yield name\n",
    "imports = list(set(get_imports()))\n",
    "\n",
    "requirements = []\n",
    "for m in pkg_resources.working_set:\n",
    "    if m.project_name in imports and m.project_name!=\"pip\":\n",
    "        requirements.append((m.project_name, m.version))\n",
    "\n",
    "for r in requirements:\n",
    "    print(\"{}=={}\".format(*r))"
   ]
  },
  {
   "cell_type": "markdown",
   "metadata": {},
   "source": [
    "#### Define the initial dataset you'll be working on"
   ]
  },
  {
   "cell_type": "code",
   "execution_count": null,
   "metadata": {},
   "outputs": [],
   "source": [
    "SatelliteJuly = pd.read_excel('Data.xlsx',sheet_name='July_sat')\n",
    "SatelliteJune = pd.read_excel('Data.xlsx',sheet_name='June_sat')\n",
    "SatelliteMay = pd.read_excel('Data.xlsx',sheet_name='May_sat')\n",
    "SatelliteApril = pd.read_excel('Data.xlsx',sheet_name='April_satellite')\n",
    "Satellite_band = pd.read_csv('Sentinel_2A_band.csv')\n",
    "Seed = pd.read_excel('Data.xlsx',sheet_name='Chem_comp_wheat')\n",
    "Dough = pd.read_excel('Data.xlsx',sheet_name='Dough',usecols=['W','P/L'])\n",
    "Bread = pd.read_excel('Data.xlsx',sheet_name='Bread',usecols=[2,3,4,5,6,7,8,9,10])"
   ]
  },
  {
   "cell_type": "code",
   "execution_count": null,
   "metadata": {},
   "outputs": [],
   "source": [
    "SatelliteData = pd.concat([SatelliteApril,SatelliteMay,SatelliteJune,SatelliteJuly],axis=1)"
   ]
  },
  {
   "cell_type": "markdown",
   "metadata": {},
   "source": [
    "#### The figures get only normalised for the sake of convenience"
   ]
  },
  {
   "cell_type": "code",
   "execution_count": null,
   "metadata": {},
   "outputs": [],
   "source": [
    "scaler = StandardScaler()\n",
    "scaler.fit(SatelliteJuly)\n",
    "scaledSatellite = pd.DataFrame(scaler.transform(SatelliteJuly))"
   ]
  },
  {
   "cell_type": "code",
   "execution_count": null,
   "metadata": {},
   "outputs": [],
   "source": [
    "#### The PCA is eventually run"
   ]
  },
  {
   "cell_type": "code",
   "execution_count": null,
   "metadata": {},
   "outputs": [],
   "source": [
    "pca = PCA(.99)\n",
    "pca.fit(scaledSatellite)\n",
    "PCA_Satellite = pd.DataFrame(pca.transform(scaledSatellite))\n",
    "pca.n_components_\n",
    "pca.explained_variance_ratio_.sum()"
   ]
  },
  {
   "cell_type": "markdown",
   "metadata": {},
   "source": [
    "#### Let us now run the scatter plot of the PCA against the wheat composition"
   ]
  },
  {
   "cell_type": "code",
   "execution_count": null,
   "metadata": {},
   "outputs": [],
   "source": [
    "colors = ['b','g','r']\n",
    "for c1 in Seed:\n",
    "    c0 = -1\n",
    "    for c in PCA_Satellite:\n",
    "        c0+=1\n",
    "        plt.scatter(PCA_Satellite[c],Seed[c1],color=colors[c0],s=1,label=str(c1))\n",
    "        plt.plot(np.unique(PCA_Satellite[c]),np.poly1d(np.polyfit(PCA_Satellite[c], Seed[c1], 1))\n",
    "                 (np.unique(PCA_Satellite[c])),color=colors[c0],label='R2='+str(linregress(PCA_Satellite[c],Seed[c1])[2]**2))\n",
    "    plt.legend()\n",
    "    plt.show()"
   ]
  },
  {
   "cell_type": "code",
   "execution_count": null,
   "metadata": {},
   "outputs": [],
   "source": [
    "colors = ['b','g','r']\n",
    "for c1 in Dough:\n",
    "    c0 = -1\n",
    "    for c in PCA_Satellite:\n",
    "        c0+=1\n",
    "        plt.scatter(PCA_Satellite[c],Dough[c1],color=colors[c0],s=1,label=str(c1))\n",
    "        plt.plot(np.unique(PCA_Satellite[c]),np.poly1d(np.polyfit(PCA_Satellite[c], Dough[c1], 1))\n",
    "                 (np.unique(PCA_Satellite[c])),color=colors[c0],label='R2='+str(linregress(PCA_Satellite[c],Dough[c1])[2]**2))\n",
    "    plt.legend()\n",
    "    plt.show()"
   ]
  },
  {
   "cell_type": "code",
   "execution_count": null,
   "metadata": {},
   "outputs": [],
   "source": [
    "colors = ['b','g','r']\n",
    "for c1 in Bread:\n",
    "    c0 = -1\n",
    "    for c in PCA_Satellite:\n",
    "        c0+=1\n",
    "        plt.scatter(PCA_Satellite[c],Bread[c1],color=colors[c0],s=1,label=str(c1))\n",
    "        plt.plot(np.unique(PCA_Satellite[c]),np.poly1d(np.polyfit(PCA_Satellite[c], Bread[c1], 1))\n",
    "                 (np.unique(PCA_Satellite[c])),color=colors[c0],label='R2='+str(linregress(PCA_Satellite[c],Bread[c1])[2]**2))\n",
    "    plt.legend()\n",
    "    plt.show()"
   ]
  },
  {
   "cell_type": "code",
   "execution_count": null,
   "metadata": {},
   "outputs": [],
   "source": [
    "for c1 in Seed:\n",
    "    for c in SatelliteJuly:\n",
    "        if linregress(SatelliteJuly[c],Seed[c1])[2]**2 > 0.1:\n",
    "            plt.scatter(SatelliteJuly[c],Seed[c1],s=1,label=str(c)[:-7]+'_'+str(c1))\n",
    "            plt.plot(np.unique(SatelliteJuly[c]),np.poly1d(np.polyfit(SatelliteJuly[c], Seed[c1], 1))\n",
    "                     (np.unique(SatelliteJuly[c])),label='R2='+str(linregress(SatelliteJuly[c],Seed[c1])[2]**2))\n",
    "            plt.legend()\n",
    "            plt.show()"
   ]
  },
  {
   "cell_type": "code",
   "execution_count": null,
   "metadata": {},
   "outputs": [],
   "source": [
    "for c1 in Dough:\n",
    "    for c in SatelliteJuly:\n",
    "        if linregress(SatelliteJuly[c],Dough[c1])[2]**2 > 0.1:\n",
    "            plt.scatter(SatelliteJuly[c],Dough[c1],s=1,label=str(c)[:-7]+'_'+str(c1))\n",
    "            plt.plot(np.unique(SatelliteJuly[c]),np.poly1d(np.polyfit(SatelliteJuly[c], Dough[c1], 1))\n",
    "                     (np.unique(SatelliteJuly[c])),label='R2='+str(linregress(SatelliteJuly[c],Dough[c1])[2]**2))\n",
    "            plt.legend()\n",
    "            plt.show()"
   ]
  },
  {
   "cell_type": "code",
   "execution_count": null,
   "metadata": {},
   "outputs": [],
   "source": [
    "for c1 in Bread:\n",
    "    for c in SatelliteJuly:\n",
    "        if linregress(SatelliteJuly[c],Bread[c1])[2]**2 > 0.1:\n",
    "            plt.scatter(SatelliteJuly[c],Bread[c1],s=1,label=str(c)[:-7]+'_'+str(c1))\n",
    "            plt.plot(np.unique(SatelliteJuly[c]),np.poly1d(np.polyfit(SatelliteJuly[c],Bread[c1], 1))\n",
    "                 (np.unique(SatelliteJuly[c])),label='R2='+str(linregress(SatelliteJuly[c],Bread[c1])[2]**2))\n",
    "            plt.legend()\n",
    "            plt.show()"
   ]
  },
  {
   "cell_type": "code",
   "execution_count": null,
   "metadata": {},
   "outputs": [],
   "source": [
    "# Let us analyse the data across all months"
   ]
  },
  {
   "cell_type": "code",
   "execution_count": null,
   "metadata": {},
   "outputs": [],
   "source": [
    "c0 = 0\n",
    "for c1 in Seed:\n",
    "    for c in SatelliteData:\n",
    "        if linregress(SatelliteData[c],Seed[c1])[2]**2 > 0.1:\n",
    "            c0+=1\n",
    "            plt.scatter(SatelliteData[c],Seed[c1],s=1,label=str(c)[:-7]+'_'+str(c)[-1]+'_'+str(c1))\n",
    "            plt.plot(np.unique(SatelliteData[c]),np.poly1d(np.polyfit(SatelliteData[c], Seed[c1], 1))\n",
    "                     (np.unique(SatelliteData[c])),label='R2='+str(linregress(SatelliteData[c],Seed[c1])[2]**2))\n",
    "            "
   ]
  },
  {
   "cell_type": "code",
   "execution_count": null,
   "metadata": {},
   "outputs": [],
   "source": [
    "c0 = 0\n",
    "for c1 in Dough:\n",
    "    for c in SatelliteData:\n",
    "        if linregress(SatelliteData[c],Dough[c1])[2]**2 > 0.1:\n",
    "            c0+=1\n",
    "            plt.scatter(SatelliteData[c],Dough[c1],s=1,label=str(c)[:-7]+'_'+str(c)[-1]+'_'+str(c1))\n",
    "            plt.plot(np.unique(SatelliteData[c]),np.poly1d(np.polyfit(SatelliteData[c], Dough[c1], 1))\n",
    "                     (np.unique(SatelliteData[c])),label='R2='+str(linregress(SatelliteData[c],Dough[c1])[2]**2))"
   ]
  },
  {
   "cell_type": "code",
   "execution_count": null,
   "metadata": {},
   "outputs": [],
   "source": [
    "c0 = 0\n",
    "for c1 in Bread:\n",
    "    for c in SatelliteData:\n",
    "        if linregress(SatelliteData[c],Bread[c1])[2]**2 > 0.1:\n",
    "            c0+=1\n",
    "            plt.scatter(SatelliteData[c],Bread[c1],s=1,label=str(c)[:-7]+'_'+str(c)[-1]+'_'+str(c1))\n",
    "            plt.plot(np.unique(SatelliteData[c]),np.poly1d(np.polyfit(SatelliteData[c], Bread[c1], 1))\n",
    "                     (np.unique(SatelliteData[c])),label='R2='+str(linregress(SatelliteData[c],Bread[c1])[2]**2))"
   ]
  },
  {
   "cell_type": "markdown",
   "metadata": {},
   "source": [
    "### Let's see what month shows the best correlation between spectral data and seed data"
   ]
  },
  {
   "cell_type": "code",
   "execution_count": null,
   "metadata": {},
   "outputs": [],
   "source": [
    "Satellite_list = [SatelliteApril,SatelliteMay,SatelliteJune,SatelliteJuly]\n",
    "co1 = []\n",
    "for sl in Satellite_list:\n",
    "    co = []\n",
    "    for c in sl:\n",
    "        for c1 in Seed:\n",
    "            if linregress(sl[c],Seed[c1])[2]**2 > 0.1:\n",
    "                co.append(linregress(sl[c],Seed[c1])[2]**2)\n",
    "    co1.append(co)\n",
    "good_regressions = pd.DataFrame(co1,index=['April','May','June','July']).T"
   ]
  },
  {
   "cell_type": "code",
   "execution_count": null,
   "metadata": {},
   "outputs": [],
   "source": [
    "Satellite_list = [SatelliteApril,SatelliteMay,SatelliteJune,SatelliteJuly]\n",
    "co1 = []\n",
    "for sl in Satellite_list:\n",
    "    co = []\n",
    "    for c in sl:\n",
    "        for c1 in Seed:\n",
    "            if linregress(sl[c],Seed[c1])[2]**2 > 0.1:\n",
    "                co.append(linregress(sl[c],Seed[c1])[2]**2)\n",
    "    co1.append(co)\n",
    "good_regressions = pd.DataFrame(co1,index=['April','May','June','July']).T"
   ]
  },
  {
   "cell_type": "markdown",
   "metadata": {},
   "source": [
    "### Query to see what is the highest regression figure"
   ]
  },
  {
   "cell_type": "code",
   "execution_count": null,
   "metadata": {},
   "outputs": [],
   "source": [
    "for sl in Satellite_list:\n",
    "    for c in sl:\n",
    "        for c1 in Seed:\n",
    "            if linregress(sl[c],Seed[c1])[2]**2 > 0.5:\n",
    "                print(c,c1)"
   ]
  },
  {
   "cell_type": "markdown",
   "metadata": {},
   "source": [
    "### Regression with the Dough figures"
   ]
  },
  {
   "cell_type": "code",
   "execution_count": 61,
   "metadata": {},
   "outputs": [
    {
     "name": "stderr",
     "output_type": "stream",
     "text": [
      "C:\\ProgramData\\Anaconda3\\lib\\site-packages\\scipy\\stats\\_distn_infrastructure.py:877: RuntimeWarning: invalid value encountered in greater\n",
      "  return (self.a < x) & (x < self.b)\n",
      "C:\\ProgramData\\Anaconda3\\lib\\site-packages\\scipy\\stats\\_distn_infrastructure.py:877: RuntimeWarning: invalid value encountered in less\n",
      "  return (self.a < x) & (x < self.b)\n",
      "C:\\ProgramData\\Anaconda3\\lib\\site-packages\\scipy\\stats\\_distn_infrastructure.py:1831: RuntimeWarning: invalid value encountered in less_equal\n",
      "  cond2 = cond0 & (x <= self.a)\n"
     ]
    },
    {
     "data": {
      "text/html": [
       "<div>\n",
       "<style scoped>\n",
       "    .dataframe tbody tr th:only-of-type {\n",
       "        vertical-align: middle;\n",
       "    }\n",
       "\n",
       "    .dataframe tbody tr th {\n",
       "        vertical-align: top;\n",
       "    }\n",
       "\n",
       "    .dataframe thead th {\n",
       "        text-align: right;\n",
       "    }\n",
       "</style>\n",
       "<table border=\"1\" class=\"dataframe\">\n",
       "  <thead>\n",
       "    <tr style=\"text-align: right;\">\n",
       "      <th></th>\n",
       "      <th>April</th>\n",
       "      <th>May</th>\n",
       "      <th>June</th>\n",
       "      <th>July</th>\n",
       "    </tr>\n",
       "  </thead>\n",
       "  <tbody>\n",
       "    <tr>\n",
       "      <th>0</th>\n",
       "      <td>0.190935</td>\n",
       "      <td>0.218669</td>\n",
       "      <td>0.404553</td>\n",
       "      <td>0.120216</td>\n",
       "    </tr>\n",
       "    <tr>\n",
       "      <th>1</th>\n",
       "      <td>0.177589</td>\n",
       "      <td>NaN</td>\n",
       "      <td>0.155059</td>\n",
       "      <td>NaN</td>\n",
       "    </tr>\n",
       "    <tr>\n",
       "      <th>2</th>\n",
       "      <td>0.194863</td>\n",
       "      <td>NaN</td>\n",
       "      <td>0.219330</td>\n",
       "      <td>NaN</td>\n",
       "    </tr>\n",
       "    <tr>\n",
       "      <th>3</th>\n",
       "      <td>0.129540</td>\n",
       "      <td>NaN</td>\n",
       "      <td>NaN</td>\n",
       "      <td>NaN</td>\n",
       "    </tr>\n",
       "    <tr>\n",
       "      <th>4</th>\n",
       "      <td>0.282451</td>\n",
       "      <td>NaN</td>\n",
       "      <td>NaN</td>\n",
       "      <td>NaN</td>\n",
       "    </tr>\n",
       "    <tr>\n",
       "      <th>5</th>\n",
       "      <td>0.301850</td>\n",
       "      <td>NaN</td>\n",
       "      <td>NaN</td>\n",
       "      <td>NaN</td>\n",
       "    </tr>\n",
       "    <tr>\n",
       "      <th>6</th>\n",
       "      <td>0.160568</td>\n",
       "      <td>NaN</td>\n",
       "      <td>NaN</td>\n",
       "      <td>NaN</td>\n",
       "    </tr>\n",
       "    <tr>\n",
       "      <th>7</th>\n",
       "      <td>0.301847</td>\n",
       "      <td>NaN</td>\n",
       "      <td>NaN</td>\n",
       "      <td>NaN</td>\n",
       "    </tr>\n",
       "    <tr>\n",
       "      <th>8</th>\n",
       "      <td>0.160570</td>\n",
       "      <td>NaN</td>\n",
       "      <td>NaN</td>\n",
       "      <td>NaN</td>\n",
       "    </tr>\n",
       "    <tr>\n",
       "      <th>9</th>\n",
       "      <td>0.301844</td>\n",
       "      <td>NaN</td>\n",
       "      <td>NaN</td>\n",
       "      <td>NaN</td>\n",
       "    </tr>\n",
       "    <tr>\n",
       "      <th>10</th>\n",
       "      <td>0.160574</td>\n",
       "      <td>NaN</td>\n",
       "      <td>NaN</td>\n",
       "      <td>NaN</td>\n",
       "    </tr>\n",
       "  </tbody>\n",
       "</table>\n",
       "</div>"
      ],
      "text/plain": [
       "       April       May      June      July\n",
       "0   0.190935  0.218669  0.404553  0.120216\n",
       "1   0.177589       NaN  0.155059       NaN\n",
       "2   0.194863       NaN  0.219330       NaN\n",
       "3   0.129540       NaN       NaN       NaN\n",
       "4   0.282451       NaN       NaN       NaN\n",
       "5   0.301850       NaN       NaN       NaN\n",
       "6   0.160568       NaN       NaN       NaN\n",
       "7   0.301847       NaN       NaN       NaN\n",
       "8   0.160570       NaN       NaN       NaN\n",
       "9   0.301844       NaN       NaN       NaN\n",
       "10  0.160574       NaN       NaN       NaN"
      ]
     },
     "execution_count": 61,
     "metadata": {},
     "output_type": "execute_result"
    }
   ],
   "source": [
    "co1 = []\n",
    "for sl in Satellite_list:\n",
    "    co = []\n",
    "    for c in sl:\n",
    "        for c1 in Dough:\n",
    "            if linregress(sl[c],Dough[c1])[2]**2 > 0.1:\n",
    "                co.append(linregress(sl[c],Dough[c1])[2]**2)\n",
    "    co1.append(co)\n",
    "good_regressions_Dough = pd.DataFrame(co1,index=['April','May','June','July']).T\n",
    "good_regressions_Dough"
   ]
  },
  {
   "cell_type": "code",
   "execution_count": 64,
   "metadata": {},
   "outputs": [
    {
     "name": "stdout",
     "output_type": "stream",
     "text": [
      "CCCI_Mese_6 P/L\n"
     ]
    }
   ],
   "source": [
    "for sl in Satellite_list:\n",
    "    for c in sl:\n",
    "        for c1 in Dough:\n",
    "            if linregress(sl[c],Dough[c1])[2]**2 > 0.4:\n",
    "                print(c,c1)"
   ]
  },
  {
   "cell_type": "code",
   "execution_count": null,
   "metadata": {},
   "outputs": [],
   "source": []
  }
 ],
 "metadata": {
  "kernelspec": {
   "display_name": "Python 3",
   "language": "python",
   "name": "python3"
  },
  "language_info": {
   "codemirror_mode": {
    "name": "ipython",
    "version": 3
   },
   "file_extension": ".py",
   "mimetype": "text/x-python",
   "name": "python",
   "nbconvert_exporter": "python",
   "pygments_lexer": "ipython3",
   "version": "3.7.1"
  }
 },
 "nbformat": 4,
 "nbformat_minor": 2
}
