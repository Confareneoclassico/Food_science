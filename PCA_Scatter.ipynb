{
 "cells": [
  {
   "cell_type": "code",
   "execution_count": null,
   "metadata": {},
   "outputs": [],
   "source": [
    "import calendar\n",
    "import matplotlib.pyplot as plt\n",
    "import numpy as np\n",
    "import pandas as pd\n",
    "import pkg_resources\n",
    "from scipy.stats import linregress\n",
    "from sklearn.decomposition import PCA\n",
    "from sklearn.preprocessing import StandardScaler\n",
    "from tabulate import tabulate\n",
    "import types"
   ]
  },
  {
   "cell_type": "markdown",
   "metadata": {},
   "source": [
    "### Package requirements for reproducibility"
   ]
  },
  {
   "cell_type": "code",
   "execution_count": null,
   "metadata": {},
   "outputs": [],
   "source": [
    "def get_imports():\n",
    "    for name, val in globals().items():\n",
    "        if isinstance(val, types.ModuleType):\n",
    "            \n",
    "            name = val.__name__.split(\".\")[0]\n",
    "\n",
    "        elif isinstance(val, type):\n",
    "            name = val.__module__.split(\".\")[0]\n",
    "            \n",
    "        poorly_named_packages = {\n",
    "            \"PIL\": \"Pillow\",\n",
    "            \"sklearn\": \"scikit-learn\"\n",
    "        }\n",
    "        if name in poorly_named_packages.keys():\n",
    "            name = poorly_named_packages[name]\n",
    "\n",
    "        yield name\n",
    "imports = list(set(get_imports()))\n",
    "\n",
    "requirements = []\n",
    "for m in pkg_resources.working_set:\n",
    "    if m.project_name in imports and m.project_name!=\"pip\":\n",
    "        requirements.append((m.project_name, m.version))\n",
    "\n",
    "for r in requirements:\n",
    "    print(\"{}=={}\".format(*r))"
   ]
  },
  {
   "cell_type": "markdown",
   "metadata": {},
   "source": [
    "#### Define the initial dataset you'll be working on"
   ]
  },
  {
   "cell_type": "code",
   "execution_count": null,
   "metadata": {},
   "outputs": [],
   "source": [
    "SatelliteJuly = pd.read_excel('Data.xlsx',sheet_name='July_sat')\n",
    "SatelliteJune = pd.read_excel('Data.xlsx',sheet_name='June_sat')\n",
    "SatelliteMay = pd.read_excel('Data.xlsx',sheet_name='May_sat')\n",
    "SatelliteApril = pd.read_excel('Data.xlsx',sheet_name='April_satellite')\n",
    "Bands = pd.read_csv('Sentinel_2A_band.csv',index_col=0,usecols=[0,5,6,7,8,9])\n",
    "Seed = pd.read_excel('Data.xlsx',sheet_name='Chem_comp_wheat')\n",
    "Dough = pd.read_excel('Data.xlsx',sheet_name='Dough',usecols=['W','P/L'])\n",
    "Bread = pd.read_excel('Data.xlsx',sheet_name='Bread',usecols=[2,3,4,5,6,7,8,9,10])"
   ]
  },
  {
   "cell_type": "code",
   "execution_count": null,
   "metadata": {},
   "outputs": [],
   "source": [
    "SatelliteData = pd.concat([SatelliteApril,SatelliteMay,SatelliteJune,SatelliteJuly],axis=1)"
   ]
  },
  {
   "cell_type": "markdown",
   "metadata": {},
   "source": [
    "#### The figures get only normalised for the sake of convenience"
   ]
  },
  {
   "cell_type": "code",
   "execution_count": null,
   "metadata": {},
   "outputs": [],
   "source": [
    "scaler = StandardScaler()\n",
    "scaler.fit(SatelliteJuly)\n",
    "scaledSatellite = pd.DataFrame(scaler.transform(SatelliteJuly))"
   ]
  },
  {
   "cell_type": "code",
   "execution_count": null,
   "metadata": {},
   "outputs": [],
   "source": [
    "#### The PCA is eventually run"
   ]
  },
  {
   "cell_type": "code",
   "execution_count": null,
   "metadata": {},
   "outputs": [],
   "source": [
    "pca = PCA(.99)\n",
    "pca.fit(scaledSatellite)\n",
    "PCA_Satellite = pd.DataFrame(pca.transform(scaledSatellite))\n",
    "pca.n_components_\n",
    "pca.explained_variance_ratio_.sum()"
   ]
  },
  {
   "cell_type": "markdown",
   "metadata": {},
   "source": [
    "#### Let us now run the scatter plot of the PCA against the wheat composition"
   ]
  },
  {
   "cell_type": "code",
   "execution_count": null,
   "metadata": {},
   "outputs": [],
   "source": [
    "colors = ['b','g','r']\n",
    "for c1 in Seed:\n",
    "    c0 = -1\n",
    "    for c in PCA_Satellite:\n",
    "        c0+=1\n",
    "        plt.scatter(PCA_Satellite[c],Seed[c1],color=colors[c0],s=1,label=str(c1))\n",
    "        plt.plot(np.unique(PCA_Satellite[c]),np.poly1d(np.polyfit(PCA_Satellite[c], Seed[c1], 1))\n",
    "                 (np.unique(PCA_Satellite[c])),color=colors[c0],label='R2='+str(linregress(PCA_Satellite[c],Seed[c1])[2]**2))\n",
    "    plt.legend()\n",
    "    plt.show()"
   ]
  },
  {
   "cell_type": "code",
   "execution_count": null,
   "metadata": {},
   "outputs": [],
   "source": [
    "colors = ['b','g','r']\n",
    "for c1 in Dough:\n",
    "    c0 = -1\n",
    "    for c in PCA_Satellite:\n",
    "        c0+=1\n",
    "        plt.scatter(PCA_Satellite[c],Dough[c1],color=colors[c0],s=1,label=str(c1))\n",
    "        plt.plot(np.unique(PCA_Satellite[c]),np.poly1d(np.polyfit(PCA_Satellite[c], Dough[c1], 1))\n",
    "                 (np.unique(PCA_Satellite[c])),color=colors[c0],label='R2='+str(linregress(PCA_Satellite[c],Dough[c1])[2]**2))\n",
    "    plt.legend()\n",
    "    plt.show()"
   ]
  },
  {
   "cell_type": "code",
   "execution_count": null,
   "metadata": {},
   "outputs": [],
   "source": [
    "colors = ['b','g','r']\n",
    "for c1 in Bread:\n",
    "    c0 = -1\n",
    "    for c in PCA_Satellite:\n",
    "        c0+=1\n",
    "        plt.scatter(PCA_Satellite[c],Bread[c1],color=colors[c0],s=1,label=str(c1))\n",
    "        plt.plot(np.unique(PCA_Satellite[c]),np.poly1d(np.polyfit(PCA_Satellite[c], Bread[c1], 1))\n",
    "                 (np.unique(PCA_Satellite[c])),color=colors[c0],label='R2='+str(linregress(PCA_Satellite[c],Bread[c1])[2]**2))\n",
    "    plt.legend()\n",
    "    plt.show()"
   ]
  },
  {
   "cell_type": "code",
   "execution_count": null,
   "metadata": {},
   "outputs": [],
   "source": [
    "for c1 in Seed:\n",
    "    for c in SatelliteJuly:\n",
    "        if linregress(SatelliteJuly[c],Seed[c1])[2]**2 > 0.1:\n",
    "            plt.scatter(SatelliteJuly[c],Seed[c1],s=1,label=str(c)[:-7]+'_'+str(c1))\n",
    "            plt.plot(np.unique(SatelliteJuly[c]),np.poly1d(np.polyfit(SatelliteJuly[c], Seed[c1], 1))\n",
    "                     (np.unique(SatelliteJuly[c])),label='R2='+str(linregress(SatelliteJuly[c],Seed[c1])[2]**2))\n",
    "            plt.legend()\n",
    "            plt.show()"
   ]
  },
  {
   "cell_type": "code",
   "execution_count": null,
   "metadata": {},
   "outputs": [],
   "source": [
    "for c1 in Dough:\n",
    "    for c in SatelliteJuly:\n",
    "        if linregress(SatelliteJuly[c],Dough[c1])[2]**2 > 0.1:\n",
    "            plt.scatter(SatelliteJuly[c],Dough[c1],s=1,label=str(c)[:-7]+'_'+str(c1))\n",
    "            plt.plot(np.unique(SatelliteJuly[c]),np.poly1d(np.polyfit(SatelliteJuly[c], Dough[c1], 1))\n",
    "                     (np.unique(SatelliteJuly[c])),label='R2='+str(linregress(SatelliteJuly[c],Dough[c1])[2]**2))\n",
    "            plt.legend()\n",
    "            plt.show()"
   ]
  },
  {
   "cell_type": "code",
   "execution_count": null,
   "metadata": {},
   "outputs": [],
   "source": [
    "for c1 in Bread:\n",
    "    for c in SatelliteJuly:\n",
    "        if linregress(SatelliteJuly[c],Bread[c1])[2]**2 > 0.1:\n",
    "            plt.scatter(SatelliteJuly[c],Bread[c1],s=1,label=str(c)[:-7]+'_'+str(c1))\n",
    "            plt.plot(np.unique(SatelliteJuly[c]),np.poly1d(np.polyfit(SatelliteJuly[c],Bread[c1], 1))\n",
    "                 (np.unique(SatelliteJuly[c])),label='R2='+str(linregress(SatelliteJuly[c],Bread[c1])[2]**2))\n",
    "            plt.legend()\n",
    "            plt.show()"
   ]
  },
  {
   "cell_type": "code",
   "execution_count": null,
   "metadata": {},
   "outputs": [],
   "source": [
    "# Let us analyse the data across all months"
   ]
  },
  {
   "cell_type": "code",
   "execution_count": null,
   "metadata": {},
   "outputs": [],
   "source": [
    "c0 = 0\n",
    "for c1 in Seed:\n",
    "    for c in SatelliteData:\n",
    "        if linregress(SatelliteData[c],Seed[c1])[2]**2 > 0.1:\n",
    "            c0+=1\n",
    "            print(c0)"
   ]
  },
  {
   "cell_type": "code",
   "execution_count": null,
   "metadata": {},
   "outputs": [],
   "source": [
    "c0 = 0\n",
    "for c1 in Dough:\n",
    "    for c in SatelliteData:\n",
    "        if linregress(SatelliteData[c],Dough[c1])[2]**2 > 0.1:\n",
    "            c0+=1\n",
    "            print(c0)"
   ]
  },
  {
   "cell_type": "code",
   "execution_count": null,
   "metadata": {},
   "outputs": [],
   "source": [
    "c0 = 0\n",
    "for c1 in Bread:\n",
    "    for c in SatelliteData:\n",
    "        if linregress(SatelliteData[c],Bread[c1])[2]**2 > 0.1:\n",
    "            c0+=1\n",
    "            print(c0)"
   ]
  },
  {
   "cell_type": "markdown",
   "metadata": {},
   "source": [
    "### Let's see what month shows the best correlation between spectral data and seed data"
   ]
  },
  {
   "cell_type": "code",
   "execution_count": null,
   "metadata": {},
   "outputs": [],
   "source": [
    "Satellite_list = [SatelliteApril,SatelliteMay,SatelliteJune,SatelliteJuly]\n",
    "co1 = []\n",
    "for sl in Satellite_list:\n",
    "    co = []\n",
    "    for c in sl:\n",
    "        for c1 in Seed:\n",
    "            if linregress(sl[c],Seed[c1])[2]**2 > 0.1:\n",
    "                co.append(linregress(sl[c],Seed[c1])[2]**2)\n",
    "    co1.append(co)\n",
    "good_regressions = pd.DataFrame(co1,index=['April','May','June','July']).T"
   ]
  },
  {
   "cell_type": "code",
   "execution_count": null,
   "metadata": {},
   "outputs": [],
   "source": [
    "Satellite_list = [SatelliteApril,SatelliteMay,SatelliteJune,SatelliteJuly]\n",
    "co1 = []\n",
    "for sl in Satellite_list:\n",
    "    co = []\n",
    "    for c in sl:\n",
    "        for c1 in Seed:\n",
    "            if linregress(sl[c],Seed[c1])[2]**2 > 0.1:\n",
    "                co.append(linregress(sl[c],Seed[c1])[2]**2)\n",
    "    co1.append(co)\n",
    "good_regressions = pd.DataFrame(co1,index=['April','May','June','July']).T"
   ]
  },
  {
   "cell_type": "code",
   "execution_count": null,
   "metadata": {},
   "outputs": [],
   "source": [
    "good_regressions"
   ]
  },
  {
   "cell_type": "markdown",
   "metadata": {},
   "source": [
    "### Query to see what is the highest regression figure"
   ]
  },
  {
   "cell_type": "code",
   "execution_count": null,
   "metadata": {},
   "outputs": [],
   "source": [
    "for sl in Satellite_list:\n",
    "    for c in sl:\n",
    "        for c1 in Seed:\n",
    "            if linregress(sl[c],Seed[c1])[2]**2 > 0.5:\n",
    "                print(c,c1)"
   ]
  },
  {
   "cell_type": "markdown",
   "metadata": {},
   "source": [
    "### Regression with the Dough figures"
   ]
  },
  {
   "cell_type": "code",
   "execution_count": null,
   "metadata": {},
   "outputs": [],
   "source": [
    "co1 = []\n",
    "for sl in Satellite_list:\n",
    "    co = []\n",
    "    for c in sl:\n",
    "        for c1 in Dough:\n",
    "            if linregress(sl[c],Dough[c1])[2]**2 > 0.1:\n",
    "                co.append(linregress(sl[c],Dough[c1])[2]**2)\n",
    "    co1.append(co)\n",
    "good_regressions_Dough = pd.DataFrame(co1,index=['April','May','June','July']).T\n",
    "good_regressions_Dough"
   ]
  },
  {
   "cell_type": "code",
   "execution_count": null,
   "metadata": {},
   "outputs": [],
   "source": [
    "for sl in Satellite_list:\n",
    "    for c in sl:\n",
    "        for c1 in Dough:\n",
    "            if linregress(sl[c],Dough[c1])[2]**2 > 0.4:\n",
    "                print(c,c1)"
   ]
  },
  {
   "cell_type": "markdown",
   "metadata": {},
   "source": [
    "### Let examine how many meaningful relations one can find among bands and the features we are interested in"
   ]
  },
  {
   "cell_type": "code",
   "execution_count": null,
   "metadata": {},
   "outputs": [],
   "source": [
    "names = ['Seed','Dough','Bread']\n",
    "db = [Seed,Dough,Bread]\n",
    "Fc = [(names[idb],c) for idb,d in enumerate(db) for c in d ]\n",
    "Features = pd.concat([Seed,Dough,Bread],axis=1)\n",
    "Features.columns = pd.MultiIndex.from_tuples(Fc,names=('Stage','Feature'))"
   ]
  },
  {
   "cell_type": "code",
   "execution_count": null,
   "metadata": {},
   "outputs": [],
   "source": [
    "bl2 = []\n",
    "bli = []\n",
    "for ib in list(set(Bands.index)):\n",
    "    bl1 = []\n",
    "    for c1 in Bands.loc[ib]:\n",
    "        bl = []\n",
    "        bli.append((calendar.month_abbr[ib],c1))\n",
    "        for c in Features:\n",
    "            bl.append(linregress(Bands.loc[ib,c1],Features[c])[2]**2)\n",
    "        bl1.append(bl)\n",
    "    bl2.append(bl1)\n",
    "Regression_df = pd.concat([pd.DataFrame(b1) for b1 in bl2])\n",
    "Regression_df.index = pd.MultiIndex.from_tuples(bli,names=('Month','Band'))\n",
    "Regression_df.columns = Features.columns"
   ]
  },
  {
   "cell_type": "code",
   "execution_count": null,
   "metadata": {},
   "outputs": [],
   "source": [
    "Regression_df[Regression_df>0.1].count()"
   ]
  },
  {
   "cell_type": "code",
   "execution_count": null,
   "metadata": {},
   "outputs": [],
   "source": [
    "Regressions_feat = pd.Series([Regression_df.loc[:,pd.IndexSlice[c0,:]][Regression_df.loc[:,pd.IndexSlice[c0,:]]>0.1].count().sum()\n",
    "for c0 in list(set(Regression_df.columns.get_level_values(0)))], index = \n",
    "                             [c0 for c0 in list(set(Regression_df.columns.get_level_values(0)))])\n",
    "Regressions_feat"
   ]
  },
  {
   "cell_type": "code",
   "execution_count": null,
   "metadata": {},
   "outputs": [],
   "source": [
    "Regressions_month = pd.Series([Regression_df.loc[pd.IndexSlice[c2,:],:]\n",
    "                              [Regression_df.loc[pd.IndexSlice[c2,:],:]>0.1].count().sum()\n",
    "for c2 in list(set(Regression_df.index.get_level_values(0)))], index = \n",
    "                             [c2 for c2 in list(set(Regression_df.index.get_level_values(0)))])\n",
    "Regressions_month"
   ]
  },
  {
   "cell_type": "code",
   "execution_count": null,
   "metadata": {},
   "outputs": [],
   "source": [
    "Regressions_band = pd.Series([Regression_df.loc[pd.IndexSlice[:,c3],:]\n",
    "                              [Regression_df.loc[pd.IndexSlice[:,c3],:]>0.1].count().sum()\n",
    "for c3 in list(set(Regression_df.index.get_level_values(1)))], index = \n",
    "                             [c3 for c3 in list(set(Regression_df.index.get_level_values(1)))])\n",
    "Regressions_band"
   ]
  },
  {
   "cell_type": "code",
   "execution_count": 155,
   "metadata": {},
   "outputs": [
    {
     "data": {
      "text/html": [
       "<div>\n",
       "<style scoped>\n",
       "    .dataframe tbody tr th:only-of-type {\n",
       "        vertical-align: middle;\n",
       "    }\n",
       "\n",
       "    .dataframe tbody tr th {\n",
       "        vertical-align: top;\n",
       "    }\n",
       "\n",
       "    .dataframe thead tr th {\n",
       "        text-align: left;\n",
       "    }\n",
       "</style>\n",
       "<table border=\"1\" class=\"dataframe\">\n",
       "  <thead>\n",
       "    <tr>\n",
       "      <th>Stage</th>\n",
       "      <th colspan=\"10\" halign=\"left\">Seed</th>\n",
       "      <th colspan=\"2\" halign=\"left\">Dough</th>\n",
       "      <th colspan=\"8\" halign=\"left\">Bread</th>\n",
       "    </tr>\n",
       "    <tr>\n",
       "      <th>Feature</th>\n",
       "      <th>p 1000s</th>\n",
       "      <th>p hl</th>\n",
       "      <th>N</th>\n",
       "      <th>C</th>\n",
       "      <th>Prot tot</th>\n",
       "      <th>Prot sol acq</th>\n",
       "      <th>Prot nacl</th>\n",
       "      <th>Prot etoh</th>\n",
       "      <th>Prot ac ac</th>\n",
       "      <th>Glut tot</th>\n",
       "      <th>W</th>\n",
       "      <th>P/L</th>\n",
       "      <th>um cr</th>\n",
       "      <th>um mol</th>\n",
       "      <th>hard</th>\n",
       "      <th>Spr</th>\n",
       "      <th>Coh</th>\n",
       "      <th>Gum</th>\n",
       "      <th>Chew</th>\n",
       "      <th>d mol</th>\n",
       "    </tr>\n",
       "  </thead>\n",
       "  <tbody>\n",
       "    <tr>\n",
       "      <th>B05</th>\n",
       "      <td>3</td>\n",
       "      <td>2</td>\n",
       "      <td>3</td>\n",
       "      <td>0</td>\n",
       "      <td>3</td>\n",
       "      <td>2</td>\n",
       "      <td>2</td>\n",
       "      <td>0</td>\n",
       "      <td>0</td>\n",
       "      <td>2</td>\n",
       "      <td>2</td>\n",
       "      <td>2</td>\n",
       "      <td>0</td>\n",
       "      <td>0</td>\n",
       "      <td>0</td>\n",
       "      <td>0</td>\n",
       "      <td>0</td>\n",
       "      <td>0</td>\n",
       "      <td>0</td>\n",
       "      <td>0</td>\n",
       "    </tr>\n",
       "    <tr>\n",
       "      <th>B08</th>\n",
       "      <td>2</td>\n",
       "      <td>0</td>\n",
       "      <td>3</td>\n",
       "      <td>0</td>\n",
       "      <td>3</td>\n",
       "      <td>0</td>\n",
       "      <td>0</td>\n",
       "      <td>0</td>\n",
       "      <td>0</td>\n",
       "      <td>0</td>\n",
       "      <td>0</td>\n",
       "      <td>2</td>\n",
       "      <td>1</td>\n",
       "      <td>0</td>\n",
       "      <td>0</td>\n",
       "      <td>0</td>\n",
       "      <td>1</td>\n",
       "      <td>0</td>\n",
       "      <td>1</td>\n",
       "      <td>0</td>\n",
       "    </tr>\n",
       "    <tr>\n",
       "      <th>B03</th>\n",
       "      <td>2</td>\n",
       "      <td>2</td>\n",
       "      <td>3</td>\n",
       "      <td>0</td>\n",
       "      <td>3</td>\n",
       "      <td>0</td>\n",
       "      <td>0</td>\n",
       "      <td>0</td>\n",
       "      <td>0</td>\n",
       "      <td>0</td>\n",
       "      <td>2</td>\n",
       "      <td>0</td>\n",
       "      <td>0</td>\n",
       "      <td>0</td>\n",
       "      <td>0</td>\n",
       "      <td>1</td>\n",
       "      <td>1</td>\n",
       "      <td>0</td>\n",
       "      <td>0</td>\n",
       "      <td>1</td>\n",
       "    </tr>\n",
       "    <tr>\n",
       "      <th>B04</th>\n",
       "      <td>2</td>\n",
       "      <td>1</td>\n",
       "      <td>3</td>\n",
       "      <td>0</td>\n",
       "      <td>3</td>\n",
       "      <td>0</td>\n",
       "      <td>0</td>\n",
       "      <td>0</td>\n",
       "      <td>0</td>\n",
       "      <td>0</td>\n",
       "      <td>1</td>\n",
       "      <td>1</td>\n",
       "      <td>0</td>\n",
       "      <td>0</td>\n",
       "      <td>0</td>\n",
       "      <td>0</td>\n",
       "      <td>1</td>\n",
       "      <td>0</td>\n",
       "      <td>0</td>\n",
       "      <td>0</td>\n",
       "    </tr>\n",
       "    <tr>\n",
       "      <th>B02</th>\n",
       "      <td>1</td>\n",
       "      <td>0</td>\n",
       "      <td>3</td>\n",
       "      <td>0</td>\n",
       "      <td>3</td>\n",
       "      <td>0</td>\n",
       "      <td>0</td>\n",
       "      <td>0</td>\n",
       "      <td>0</td>\n",
       "      <td>0</td>\n",
       "      <td>1</td>\n",
       "      <td>1</td>\n",
       "      <td>0</td>\n",
       "      <td>0</td>\n",
       "      <td>0</td>\n",
       "      <td>0</td>\n",
       "      <td>0</td>\n",
       "      <td>0</td>\n",
       "      <td>0</td>\n",
       "      <td>0</td>\n",
       "    </tr>\n",
       "  </tbody>\n",
       "</table>\n",
       "</div>"
      ],
      "text/plain": [
       "Stage      Seed                                                       \\\n",
       "Feature p 1000s p hl  N  C Prot tot Prot sol acq Prot nacl Prot etoh   \n",
       "B05           3    2  3  0        3            2         2         0   \n",
       "B08           2    0  3  0        3            0         0         0   \n",
       "B03           2    2  3  0        3            0         0         0   \n",
       "B04           2    1  3  0        3            0         0         0   \n",
       "B02           1    0  3  0        3            0         0         0   \n",
       "\n",
       "Stage                       Dough     Bread                                     \n",
       "Feature Prot ac ac Glut tot     W P/L um cr um mol hard Spr Coh Gum Chew d mol  \n",
       "B05              0        2     2   2     0      0    0   0   0   0    0     0  \n",
       "B08              0        0     0   2     1      0    0   0   1   0    1     0  \n",
       "B03              0        0     2   0     0      0    0   1   1   0    0     1  \n",
       "B04              0        0     1   1     0      0    0   0   1   0    0     0  \n",
       "B02              0        0     1   1     0      0    0   0   0   0    0     0  "
      ]
     },
     "execution_count": 155,
     "metadata": {},
     "output_type": "execute_result"
    }
   ],
   "source": [
    "Regressions_band_feat = pd.DataFrame([Regression_df.loc[pd.IndexSlice[:,c3],:]\n",
    "                              [Regression_df.loc[pd.IndexSlice[:,c3],:]>0.1].count()\n",
    "for c3 in list(set(Regression_df.index.get_level_values(1)))], index = \n",
    "                             [c3 for c3 in list(set(Regression_df.index.get_level_values(1)))])\n",
    "Regressions_band_feat"
   ]
  },
  {
   "cell_type": "code",
   "execution_count": null,
   "metadata": {},
   "outputs": [],
   "source": []
  }
 ],
 "metadata": {
  "kernelspec": {
   "display_name": "Python 3",
   "language": "python",
   "name": "python3"
  },
  "language_info": {
   "codemirror_mode": {
    "name": "ipython",
    "version": 3
   },
   "file_extension": ".py",
   "mimetype": "text/x-python",
   "name": "python",
   "nbconvert_exporter": "python",
   "pygments_lexer": "ipython3",
   "version": "3.7.1"
  }
 },
 "nbformat": 4,
 "nbformat_minor": 2
}
